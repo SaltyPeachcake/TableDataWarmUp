{
 "cells": [
  {
   "cell_type": "markdown",
   "metadata": {
    "tags": []
   },
   "source": [
    "# Assignment 1: Visualizing the Wine Dataset\n",
    "by:\n",
    "- Sam Yao\n",
    "- Michael Amberg\n",
    "- Rebecca Kuhlman\n",
    "\n",
    "# NOTE: DO NOT PUSH .ipynb_checkpoints/ TO THE GITHUB"
   ]
  },
  {
   "cell_type": "markdown",
   "metadata": {},
   "source": [
    "### Data Sources\n",
    "- [1] http://www3.dsi.uminho.pt/pcortez/wine5.pdf\n",
    "- [2] https://archive.ics.uci.edu/ml/datasets/Wine+Quality"
   ]
  },
  {
   "cell_type": "markdown",
   "metadata": {},
   "source": [
    "## Business Understanding"
   ]
  },
  {
   "cell_type": "markdown",
   "metadata": {},
   "source": [
    "- Describe the purpose of the data set you selected (i.e., why and how was this data collected in the first place?). \n",
    "- What is the prediction task for your data and why are other third parties interested in the result? \n",
    "- Once you begin modeling, how well would your prediction algorithm need to perform to be considered useful to these third parties?\n",
    "- Be specific and use your own words to describe the aspects of the data."
   ]
  },
  {
   "cell_type": "markdown",
   "metadata": {},
   "source": [
    "### In your own words, give an overview of the dataset.\n",
    "This dataset describes several physical and chemical qualities of various wines (both white and red) from Portugal [1]. These characteristics, such as pH, citric acid, alcohol content, and residual sugar, were tested by physicochemical machines by the CVRVV, the official wine testing entity of the region of Portugal which these wines were made. The output was determined by a minimum of three human judges, who judged the wine quality on a scale of 0-10 (0 being bad and 10 being excellent). "
   ]
  },
  {
   "cell_type": "markdown",
   "metadata": {},
   "source": [
    "### What is the prediction task for your data and why are other third parties interested in the result? \n",
    "We are to predict the rating of a wine, given its qualities, on a scale of one to ten. Third-party entities, such as winemakers and related businesses, are interested in these results so that they can determine what chemically constitutes a wine that will rank high. Then, wine can be manufactured that focuses on this attribute (or less on this attribute if there is a strong negative correlation between the rankin and a certain attribute). This high ranking can be used to market those wines, bringing in profits for the company."
   ]
  },
  {
   "cell_type": "markdown",
   "metadata": {},
   "source": [
    "### Once you begin modeling, how well would your prediction algorithm need to perform to be considered useful to these third parties?\n",
    "Wine is often viewed as a very subjective experience. Wine chemical composition varies from year to year depending on the overall climate of the growing season. Given that quality is extremely subjective and variable, there is not a strong need for an extremely precise algorithm. With these considerations, a 60-70% accuracy will be deemed acceptable."
   ]
  },
  {
   "cell_type": "markdown",
   "metadata": {},
   "source": [
    "**We could also describe how as long as the error rate isn't higher than about 10%, the model could still be effective**"
   ]
  },
  {
   "cell_type": "markdown",
   "metadata": {},
   "source": [
    "### Be specific and use your own words to describe the aspects of the data."
   ]
  },
  {
   "cell_type": "markdown",
   "metadata": {},
   "source": [
    "The dataset is split into two initial csv files: white wine and red wine. When combined, there are 4898 total samples for white wine while there are 1599 samples for red wine. "
   ]
  },
  {
   "cell_type": "code",
   "execution_count": 22,
   "metadata": {},
   "outputs": [
    {
     "name": "stdout",
     "output_type": "stream",
     "text": [
      "Percentage Red Samples: 24.61%\n",
      "Percentage White Samples: 75.39%\n",
      "Total Dataset Size: 6497\n"
     ]
    }
   ],
   "source": [
    "total = 4898 + 1599\n",
    "red = (1599/total)\n",
    "white = (4898/total)\n",
    "print(\"Percentage Red Samples: {:.2%}\".format(red))\n",
    "print(\"Percentage White Samples: {:.2%}\".format(white))\n",
    "print(\"Total Dataset Size: {}\".format(total))"
   ]
  },
  {
   "cell_type": "markdown",
   "metadata": {},
   "source": [
    "There are 12 attributes total, with 11 being describing attributes and 1 being the target attribute. As stated earlier, the 11 attributes are scientific measurements that were obtained by scientific laboratory tests. The target attribute, the quality, was obtained by human sensory measures in the form of qualified sommeliers. **However, it should be stressed and noted that taste is very subjective and \"the least understood of the human senses\"[1] according to the paper.**\n"
   ]
  },
  {
   "attachments": {},
   "cell_type": "markdown",
   "metadata": {},
   "source": [
    "Here is an table explaining the attributes:\n",
    "| Attribute | Description | Type | Unit |\n",
    "| :--- | :----------- |:---| :----: |\n",
    "| Fixed Acidity       | Acidity inherently in grapes|Ratio|g/dm^3|\n",
    "| Volatile Acidity    | Acidity from the fermentation process, usually <br> indicates a presence of bacteria |Ratio|g/dm^3|\n",
    "| Citric Acid         | A naturally occuring fixed acid |Ratio|g/dm^3|\n",
    "| Residual Sugar      | Amount of sugar present after the fermentation process |Ratio|g/dm^3|\n",
    "| Chlorides           | Amount of Chloride salts in the wine |Ratio|g/dm^3|\n",
    "| Free Sulfur Dioxide | Amount of Sulfur Dioxide existing as is, not bound to other chemicals |Ratio|mg/dm^3|\n",
    "| Total Sulfur Dioxide| Total amount of Sulfur Dioxide (SO2) in the wine, including <br> free and sulfates bound to other chemicals |Ratio|mg/dm^3|\n",
    "| Density             | Mass per unit volume at 20 degrees Celsius. |Ratio|g/dm^3|\n",
    "| pH                  | Acidity based on the pH Scale |Interval|N/A|\n",
    "| Sulphates           | May be related to fermenting nutrition |Ratio|g/dm^3|\n",
    "| Alcohol             | Alcohol percentage |Ratio|%|\n",
    "| Quality             | Wine Score on a Scale of 0 to 10 |Ordinal|N/A|\n",
    "\n",
    "All attributes except for pH and Quality are Ratio data types because for each of these attributes, there is an absolute zero, which means that at 0, there is none of the attribute present. Quality and pH are Ordinal and Interval respectively. Quality is scored on a rank with the implication that a higher number is better than a lower number, and pH is a scale used to measure the acidity, which the scale does not have an aboslute zero.\n",
    "\n",
    "Source to create/format table: \n",
    "- https://www.markdownguide.org/extended-syntax/\n",
    "\n",
    "Sources to Describe Attributes: \n",
    "- https://waterhouse.ucdavis.edu/whats-in-wine/\n",
    "- https://winefolly.com/deep-dive/what-is-residual-sugar-in-wine/\n",
    "- https://www.extension.iastate.edu/wine/total-sulfur-dioxide-why-it-matters-too/\n",
    "- http://www.oiv.org/public/medias/2604/oiv-ma-d1-03.pdf\n",
    "- https://www.oiv.int/public/medias/2468/oiv-ma-as2-01b.pdf"
   ]
  },
  {
   "cell_type": "markdown",
   "metadata": {},
   "source": [
    "## Data Understanding"
   ]
  },
  {
   "cell_type": "code",
   "execution_count": null,
   "metadata": {},
   "outputs": [],
   "source": []
  },
  {
   "cell_type": "markdown",
   "metadata": {},
   "source": [
    "## Data Visualization"
   ]
  },
  {
   "cell_type": "code",
   "execution_count": null,
   "metadata": {},
   "outputs": [],
   "source": []
  },
  {
   "cell_type": "markdown",
   "metadata": {},
   "source": [
    "## Extra Work 😡"
   ]
  },
  {
   "cell_type": "code",
   "execution_count": null,
   "metadata": {},
   "outputs": [],
   "source": []
  }
 ],
 "metadata": {
  "kernelspec": {
   "display_name": "Python 3 (ipykernel)",
   "language": "python",
   "name": "python3"
  },
  "language_info": {
   "codemirror_mode": {
    "name": "ipython",
    "version": 3
   },
   "file_extension": ".py",
   "mimetype": "text/x-python",
   "name": "python",
   "nbconvert_exporter": "python",
   "pygments_lexer": "ipython3",
   "version": "3.9.13"
  },
  "vscode": {
   "interpreter": {
    "hash": "068ab17dd90b35973bea16a250b11f677a509ddf2286fea66f57fb3909021b09"
   }
  }
 },
 "nbformat": 4,
 "nbformat_minor": 4
}
