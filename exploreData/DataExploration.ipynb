{
 "cells": [
  {
   "cell_type": "markdown",
   "metadata": {
    "tags": []
   },
   "source": [
    "# Assignment 1: Visualizing the Wine Dataset\n",
    "by:\n",
    "- Sam Yao\n",
    "- Michael Amberg\n",
    "- Rebecca Kuhlman\n",
    "\n",
    "# NOTE: DO NOT PUSH .ipynb_checkpoints/ TO THE GITHUB"
   ]
  },
  {
   "cell_type": "markdown",
   "metadata": {},
   "source": [
    "### Data Sources\n",
    "- [1] http://www3.dsi.uminho.pt/pcortez/wine5.pdf\n",
    "- [2] https://archive.ics.uci.edu/ml/datasets/Wine+Quality"
   ]
  },
  {
   "cell_type": "markdown",
   "metadata": {},
   "source": [
    "## Business Understanding"
   ]
  },
  {
   "cell_type": "markdown",
   "metadata": {},
   "source": [
    "- Describe the purpose of the data set you selected (i.e., why and how was this data collected in the first place?). \n",
    "- What is the prediction task for your data and why are other third parties interested in the result? \n",
    "- Once you begin modeling, how well would your prediction algorithm need to perform to be considered useful to these third parties?\n",
    "- Be specific and use your own words to describe the aspects of the data."
   ]
  },
  {
   "cell_type": "markdown",
   "metadata": {},
   "source": [
    "### In your own words, give an overview of the dataset.\n",
    "This dataset describes several physical and chemical qualities of various wines (both white and red) from Portugal [1]. These characteristics, such as pH, citric acid, alcohol content, and residual sugar, were tested by physicochemical machines by the CVRVV, the official wine testing entity of the region of Portugal which these wines were made. The output was determined by a minimum of three human judges, who judged the wine quality on a scale of 0-10 (0 being bad and 10 being excellent). "
   ]
  },
  {
   "cell_type": "markdown",
   "metadata": {},
   "source": [
    "### What is the prediction task for your data and why are other third parties interested in the result? \n",
    "We are to predict the rating of a wine, given its qualities, on a scale of one to ten. Third-party entities, such as winemakers and related businesses, are interested in these results so that they can determine what chemically constitutes a wine that will rank high. Then, wine can be manufactured that focuses on this attribute (or less on this attribute if there is a strong negative correlation between the rankin and a certain attribute). This high ranking can be used to market those wines, bringing in profits for the company."
   ]
  },
  {
   "cell_type": "markdown",
   "metadata": {},
   "source": [
    "### Once you begin modeling, how well would your prediction algorithm need to perform to be considered useful to these third parties?\n",
    "Wine is often viewed as a very subjective experience. Wine chemical composition varies from year to year depending on the overall climate of the growing season. Given that quality is extremely subjective and variable, there is not a strong need for an extremely precise algorithm. With these considerations, a 60-70% accuracy will be deemed acceptable."
   ]
  },
  {
   "cell_type": "markdown",
   "metadata": {},
   "source": [
    "### Be specific and use your own words to describe the aspects of the data."
   ]
  },
  {
   "cell_type": "markdown",
   "metadata": {},
   "source": [
    "## Data Understanding"
   ]
  },
  {
   "cell_type": "code",
   "execution_count": null,
   "metadata": {},
   "outputs": [],
   "source": [
    "import pandas as pd\n",
    "import numpy as np\n",
    "import matplotlib\n",
    "import matplotlib.pyplot as plt\n",
    "import warnings\n",
    "import seaborn as sns\n",
    "warnings.simplefilter('ignore', DeprecationWarning)\n",
    "\n",
    "df_white_raw = pd.read_csv(\"winequality-white.csv\")\n",
    "df_red_raw = pd.read_csv(\"winequality-red.csv\")\n",
    "\n",
    "#Data csv format used \";\" instead of \",\", leading to us needing to manipulate file to use data\n",
    "print(df_white_raw.info())"
   ]
  },
  {
   "cell_type": "code",
   "execution_count": null,
   "outputs": [],
   "source": [
    "print(df_red_raw.info())"
   ],
   "metadata": {
    "collapsed": false
   }
  },
  {
   "cell_type": "code",
   "execution_count": null,
   "outputs": [],
   "source": [
    "df_red_raw.isna().sum()"
   ],
   "metadata": {
    "collapsed": false
   }
  },
  {
   "cell_type": "code",
   "execution_count": null,
   "outputs": [],
   "source": [
    "df_white_raw.isna().sum()"
   ],
   "metadata": {
    "collapsed": false
   }
  },
  {
   "cell_type": "markdown",
   "source": [
    "There is no missing data points in this dataset. The majority is numerical data. Whether a wine has sulfates or not could be made into categorical data, and whether the wine is red or white is categorical.\n",
    "The numerical day can be broken down into groups, such as not acidic wine, light acidity, medium acidity, etc.\n",
    "Red wine acidity ranges from 4ph to 3.3ph at the very lowest\n",
    "White wine acidity ranges from 3.6 to 2.8ph, with the sweetest white wines being the most acidic."
   ],
   "metadata": {
    "collapsed": false
   }
  },
  {
   "cell_type": "code",
   "execution_count": null,
   "outputs": [],
   "source": [
    "df_groupedRed = df_red_raw.groupby(['quality'])\n",
    "df_groupedRed.count()"
   ],
   "metadata": {
    "collapsed": false
   }
  },
  {
   "cell_type": "code",
   "execution_count": null,
   "outputs": [],
   "source": [
    "df_red_raw['pH_range'] = pd.cut(df_red_raw['pH'],\n",
    "                                 [0,3.075,3.3,3.7,3.9,4.5],\n",
    "                                 labels=['Very High','High','Standard','Low','Very Low'])\n",
    "                                #labels=['0','1','2','3','4'])\n",
    "df_groupedRed.pH_range.describe()\n",
    "plt.style.use('ggplot')\n",
    "\n",
    "#plt.subplot(1,3,1)\n",
    "#df_groupedRed.pH_range.plot.hist(5)\n",
    "#plt.subplot(1,3,2)\n",
    "#df_groupedRed.pH_range.plot.kde(0.2)\n",
    "\n",
    "#plt.subplot(1,3,3)\n",
    "#df_groupedRed.pH_range.plot.hist(50)\n",
    "#df_groupedRed.pH_range.plot.kde(0.05, True)\n",
    "\n",
    "# remember that visualization is interpretted, it supports evidence.\n",
    "# plt.ylim([0, 0.06])\n",
    "\n",
    "#plt.show()\n",
    "#df_groupedRed.pH_range.plot.hist()"
   ],
   "metadata": {
    "collapsed": false
   }
  },
  {
   "cell_type": "code",
   "execution_count": null,
   "outputs": [],
   "source": [
    "df_red_raw['ABV_range'] = pd.cut(df_red_raw['alcohol'],\n",
    "                                 [0,12.5,13.5,14.5,100],\n",
    "                                labels=['0','1','2','3'])\n",
    "df_groupedRed.ABV_range.describe()"
   ],
   "metadata": {
    "collapsed": false
   }
  },
  {
   "cell_type": "markdown",
   "source": [
    "Initially there doesn't seem to be a correlation between ABV and quality. Popular Portugense wines often have a very low ABV, which may affect the algorithm."
   ],
   "metadata": {
    "collapsed": false
   }
  },
  {
   "cell_type": "code",
   "execution_count": null,
   "outputs": [],
   "source": [
    "dfRed = df_red_raw.copy()\n",
    "dfRed['type'] = 'red'\n",
    "dfRed['type#'] = 1\n",
    "dfWhite = df_white_raw.copy()\n",
    "dfWhite['type'] = 'white'\n",
    "dfWhite['type#'] = 0\n",
    "\n",
    "# The resulting dataset has 0 represent White Wine and 1 represent\n",
    "df_merged = pd.concat([dfWhite,dfRed], axis = 0, ignore_index=True,)\n",
    "df_merged"
   ],
   "metadata": {
    "collapsed": false
   }
  },
  {
   "cell_type": "markdown",
   "metadata": {},
   "source": [
    "## Data Visualization"
   ]
  },
  {
   "cell_type": "code",
   "execution_count": null,
   "metadata": {},
   "outputs": [],
   "source": [
    "%matplotlib inline\n",
    "df_merged.boxplot(column = ['total sulfur dioxide'], by=['type#','quality'])\n",
    "# 0 represents white wine, 1 represents red wines"
   ]
  },
  {
   "cell_type": "markdown",
   "source": [],
   "metadata": {
    "collapsed": false
   }
  },
  {
   "cell_type": "markdown",
   "source": [],
   "metadata": {
    "collapsed": false
   }
  },
  {
   "cell_type": "code",
   "execution_count": null,
   "outputs": [],
   "source": [
    "df_merged.hist(column=['total sulfur dioxide'], by=['type'])"
   ],
   "metadata": {
    "collapsed": false
   }
  },
  {
   "cell_type": "code",
   "execution_count": null,
   "outputs": [],
   "source": [
    "df_merged.boxplot(column = ['pH'], by=['type#','quality'])"
   ],
   "metadata": {
    "collapsed": false
   }
  },
  {
   "cell_type": "code",
   "execution_count": null,
   "outputs": [],
   "source": [
    "df_merged.boxplot(column = ['alcohol'], by=['type#','quality'])"
   ],
   "metadata": {
    "collapsed": false
   }
  },
  {
   "cell_type": "code",
   "execution_count": null,
   "outputs": [],
   "source": [
    "df_merged.groupby('type#').plot.scatter(x='alcohol', y='sulphates', c='quality', colormap='plasma', alpha = .5)"
   ],
   "metadata": {
    "collapsed": false
   }
  },
  {
   "cell_type": "code",
   "execution_count": null,
   "outputs": [],
   "source": [
    "df_merged.groupby('type#').plot.scatter(x='residual sugar', y='chlorides', c='quality', colormap='plasma', alpha = .5)"
   ],
   "metadata": {
    "collapsed": false
   }
  },
  {
   "cell_type": "markdown",
   "metadata": {},
   "source": [
    "## Extra Work 😡"
   ]
  },
  {
   "cell_type": "code",
   "execution_count": null,
   "metadata": {},
   "outputs": [],
   "source": [
    "from sklearn.preprocessing import StandardScaler, LabelEncoder\n",
    "from sklearn.model_selection import train_test_split\n",
    "from sklearn.metrics import confusion_matrix, accuracy_score\n",
    "import umap\n",
    "\n",
    "cats = df_merged[['type#','quality']]\n",
    "df_merged_nums = df_merged.drop(columns=['type','type#','quality'], axis =0)\n",
    "\n",
    "scaler = StandardScaler()\n",
    "scaler.fit(df_merged_nums)\n",
    "df_scaled = pd.DataFrame(scaler.transform(df_merged_nums), columns=list(df_merged_nums.columns))\n",
    "\n",
    "df_merged_scaled = pd.concat([df_scaled,cats['type#']],axis = 1)\n",
    "\n",
    "df_full_scaled = pd.concat([df_scaled,cats],axis = 1)\n",
    "df_scaled_white = df_full_scaled[df_full_scaled['type#']==0]\n",
    "df_scaled_red = df_full_scaled[df_full_scaled['type#']==1]\n",
    "\n",
    "cats = cats.drop('type#',axis=1) #drop to use cats as target variable\n",
    "le = LabelEncoder()\n",
    "cats = le.fit_transform(cats)\n",
    "\n",
    "# This is being done incorrectly, the train/test should be scaled seperated to prevent data leakage.\n",
    "# idc tho because I'm not trying to make a model\n",
    "X_train, X_test, y_train, y_test = train_test_split(df_merged_scaled, cats, test_size = 0.2)\n",
    "\n",
    "X_train.head(3)"
   ]
  },
  {
   "cell_type": "code",
   "execution_count": null,
   "outputs": [],
   "source": [
    "reducer = umap.UMAP(min_dist=0.1, n_components=2, n_epochs=None,\n",
    "     n_neighbors=15)\n",
    "embedding = reducer.fit_transform(df_merged_scaled)\n",
    "plt.scatter(\n",
    "    embedding[:, 0],\n",
    "    embedding[:, 1],\n",
    "    c=[sns.color_palette()[x] for x in df_merged['type#']],\n",
    "    alpha=.6)\n",
    "plt.gca().set_aspect('equal', 'datalim')\n",
    "plt.title('Default UMAP projection of the Portuguese wine dataset by type', fontsize=24)"
   ],
   "metadata": {
    "collapsed": false
   }
  },
  {
   "cell_type": "code",
   "execution_count": null,
   "outputs": [],
   "source": [
    "reducer = umap.UMAP(min_dist=0.3, n_components=2, n_epochs=None,\n",
    "     n_neighbors=50)\n",
    "embedding = reducer.fit_transform(df_merged_scaled)\n",
    "plt.scatter(\n",
    "    embedding[:, 0],\n",
    "    embedding[:, 1],\n",
    "    c=[sns.color_palette()[x] for x in df_merged['quality']],\n",
    "    alpha=.6)\n",
    "plt.gca().set_aspect('equal', 'datalim')\n",
    "plt.title('UMAP projection of the Portuguese wine dataset by quality', fontsize=24)"
   ],
   "metadata": {
    "collapsed": false
   }
  },
  {
   "cell_type": "code",
   "execution_count": null,
   "outputs": [],
   "source": [
    "reducer = umap.UMAP(min_dist=0.3, n_components=2, n_epochs=None,\n",
    "     n_neighbors=50)\n",
    "embedding = reducer.fit_transform(df_scaled_white)\n",
    "plt.scatter(\n",
    "    embedding[:, 0],\n",
    "    embedding[:, 1],\n",
    "    c=[sns.color_palette()[x] for x in df_scaled_white['quality']],\n",
    "    alpha=.6)\n",
    "plt.gca().set_aspect('equal', 'datalim')\n",
    "plt.title('UMAP projection of the Portuguese white wine dataset', fontsize=24)"
   ],
   "metadata": {
    "collapsed": false
   }
  },
  {
   "cell_type": "code",
   "execution_count": null,
   "outputs": [],
   "source": [
    "reducer = umap.UMAP(min_dist=0.3, n_components=2, n_epochs=None,\n",
    "     n_neighbors=50)\n",
    "embedding = reducer.fit_transform(df_scaled_red)\n",
    "plt.scatter(\n",
    "    embedding[:, 0],\n",
    "    embedding[:, 1],\n",
    "    c=[sns.color_palette()[x] for x in df_scaled_red['quality']],\n",
    "    alpha=.6)\n",
    "plt.gca().set_aspect('equal', 'datalim')\n",
    "plt.title('UMAP projection of the Portuguese red wine dataset', fontsize=24)"
   ],
   "metadata": {
    "collapsed": false
   }
  },
  {
   "cell_type": "code",
   "execution_count": null,
   "outputs": [],
   "source": [
    "reducer = umap.UMAP(min_dist=0.6, n_components=2, n_epochs=None,\n",
    "     n_neighbors=120)\n",
    "embedding = reducer.fit_transform(df_scaled_white)\n",
    "plt.scatter(\n",
    "    embedding[:, 0],\n",
    "    embedding[:, 1],\n",
    "    c=[sns.color_palette()[x] for x in df_scaled_white['quality']],\n",
    "    alpha=.6)\n",
    "plt.gca().set_aspect('equal', 'datalim')\n",
    "plt.title('UMAP projection of the Portuguese white wine dataset, dist=.6, neighbors=120', fontsize=24)"
   ],
   "metadata": {
    "collapsed": false
   }
  },
  {
   "cell_type": "code",
   "execution_count": null,
   "outputs": [],
   "source": [
    "reducer = umap.UMAP(min_dist=.9, n_components=3, n_epochs=None,\n",
    "     n_neighbors=5)\n",
    "embedding = reducer.fit_transform(df_scaled_white)\n",
    "plt.scatter(\n",
    "    embedding[:, 0],\n",
    "    embedding[:, 1],\n",
    "    embedding[:, 2],\n",
    "    c=[sns.color_palette()[x] for x in df_scaled_white['quality']],\n",
    "    alpha=.6)\n",
    "plt.gca().set_aspect('equal', 'datalim')\n",
    "plt.title('UMAP projection of the Portuguese white wine dataset in \"3D\"', fontsize=24)"
   ],
   "metadata": {
    "collapsed": false
   }
  },
  {
   "cell_type": "code",
   "execution_count": null,
   "outputs": [],
   "source": [
    "reducer = umap.UMAP(min_dist=.2, n_components=3, n_epochs=None,\n",
    "     n_neighbors=160)\n",
    "embedding = reducer.fit_transform(df_scaled_red)\n",
    "plt.scatter(\n",
    "    embedding[:, 0],\n",
    "    embedding[:, 1],\n",
    "    embedding[:, 2],\n",
    "    c=[sns.color_palette()[x] for x in df_scaled_red['quality']],\n",
    "    alpha=.6)\n",
    "plt.gca().set_aspect('equal', 'datalim')\n",
    "plt.title('UMAP projection of the Portuguese red wine dataset in \"3D\"', fontsize=24)"
   ],
   "metadata": {
    "collapsed": false
   }
  },
  {
   "cell_type": "code",
   "execution_count": null,
   "outputs": [],
   "source": [
    "reducer = umap.UMAP(min_dist=0.3, n_components=2, metric = 'manhattan',\n",
    "     n_neighbors=50)\n",
    "embedding = reducer.fit_transform(df_scaled_red)\n",
    "plt.scatter(\n",
    "    embedding[:, 0],\n",
    "    embedding[:, 1],\n",
    "    c=[sns.color_palette()[x] for x in df_scaled_red['quality']],\n",
    "    alpha=.6)\n",
    "plt.gca().set_aspect('equal', 'datalim')\n",
    "plt.title('UMAP projection of the Portuguese red wine dataset using Manhattan Distance', fontsize=24)"
   ],
   "metadata": {
    "collapsed": false
   }
  },
  {
   "cell_type": "code",
   "execution_count": null,
   "outputs": [],
   "source": [
    "reducer = umap.UMAP(min_dist=0.4, n_components=2, metric = 'canberra',\n",
    "     n_neighbors=50)\n",
    "embedding = reducer.fit_transform(df_scaled_red)\n",
    "plt.scatter(\n",
    "    embedding[:, 0],\n",
    "    embedding[:, 1],\n",
    "    c=[sns.color_palette()[x] for x in df_scaled_red['quality']],\n",
    "    alpha=.6)\n",
    "plt.gca().set_aspect('equal', 'datalim')\n",
    "plt.title('UMAP projection of the Portuguese red wine dataset using Canberra metric', fontsize=24)\n"
   ],
   "metadata": {
    "collapsed": false
   }
  },
  {
   "cell_type": "markdown",
   "source": [
    "## UMAP Interpretation\n",
    "From the different UMAP projections we can see groups form within the data point across multiple parameter changes. While it is hard to determine which projection is the 'best', the relatively distinct groupings of points proves that UMAP dimensionality reduction would be appropriate from the dataset.\n",
    "\n",
    "A clear example is seen in the \"UMAP projection of the Portuguese red wine dataset using Manhattan Distance\" plot. In it, each point's color represents the quality of the wine. While there is some overlap, there are fairly distinct boundaries between the different wine qualities that are easy to follow.\n",
    "\n",
    "Moving forward, the different wine types should have different parameters for dimensionality reduction. Because white wine has more entries and results in a more compacted graph, selecting parameters that would space these points further from each-other would allow more clear boundaries to form.\n",
    "\n",
    "In both cases, we believe that dimensions should be reduced to 3 rather than two in order to better represent the original 12 features and form clearer groups.\n",
    "\n"
   ],
   "metadata": {
    "collapsed": false
   }
  },
  {
   "cell_type": "markdown",
   "source": [
    "## Applying KernelPCA dimensionality reduction\n"
   ],
   "metadata": {
    "collapsed": false
   }
  },
  {
   "cell_type": "code",
   "execution_count": null,
   "outputs": [],
   "source": [
    "from sklearn.decomposition import KernelPCA\n",
    "kpca = KernelPCA(n_components=2, kernel='rbf',\n",
    "                 gamma=15)\n",
    "white = kpca.fit_transform(df_scaled_white)\n",
    "red = kpca.fit_transform(df_scaled_red)"
   ],
   "metadata": {
    "collapsed": false
   }
  },
  {
   "cell_type": "code",
   "execution_count": null,
   "outputs": [],
   "source": [
    "plt.scatter(\n",
    "    red[:, 0],\n",
    "    red[:, 1],\n",
    "    c=[sns.color_palette()[x] for x in df_scaled_red['quality']],\n",
    "    alpha=.6)\n",
    "plt.gca().set_aspect('equal', 'datalim')\n",
    "plt.title('KernelPCA projection of the Portuguese white wine dataset with rbf kernel', fontsize=24)"
   ],
   "metadata": {
    "collapsed": false
   }
  },
  {
   "cell_type": "code",
   "execution_count": null,
   "outputs": [],
   "source": [
    "kpca = KernelPCA(n_components=2, kernel='poly',\n",
    "                 gamma=10, degree = 4,  )\n",
    "red = kpca.fit_transform(df_scaled_red)\n",
    "\n",
    "plt.scatter(\n",
    "    red[:, 0],\n",
    "    red[:, 1],\n",
    "    c=[sns.color_palette()[x] for x in df_scaled_red['quality']],\n",
    "    alpha=.6)\n",
    "plt.gca().set_aspect('equal', 'datalim')\n",
    "plt.title('KernelPCA projection of the Portuguese white wine dataset with poly kernel', fontsize=24)"
   ],
   "metadata": {
    "collapsed": false
   }
  },
  {
   "cell_type": "code",
   "execution_count": null,
   "outputs": [],
   "source": [],
   "metadata": {
    "collapsed": false
   }
  },
  {
   "cell_type": "markdown",
   "source": [
    "## KernelPCA analysis\n",
    "KernelPCA seems to perform a similar job to UMAP, but the resulting data is far less detailed. There are far fewer data points discernible on the graph, so a clustering algorithm would struggle to perform accurately on the resulting table. For this reason, UMAP is would be the recommender dimensionality reduction algorithm used"
   ],
   "metadata": {
    "collapsed": false
   }
  },
  {
   "cell_type": "markdown",
   "source": [
    "## Looking at the SHAP values for the data\n",
    "After applying a simple model (xgboost in this example) we can use the SHAP library to determine SHAP values.\n",
    "These values represent the sway each individual element has towards the final prediction. By summerizing all these positive/negatives contributions across all features, we are able to see which features have the largest effect on final prediction."
   ],
   "metadata": {
    "collapsed": false
   }
  },
  {
   "cell_type": "code",
   "execution_count": null,
   "outputs": [],
   "source": [
    "from xgboost import XGBClassifier\n",
    "model = XGBClassifier(n_estimators=5, max_depth=19, learning_rate=.7)\n",
    "model.fit(X_train,y_train)\n",
    "preds = model.predict(X_test)\n",
    "print(accuracy_score(y_test, preds)) # awful accuracy but no cleaning has been done tbf"
   ],
   "metadata": {
    "collapsed": false
   }
  },
  {
   "cell_type": "code",
   "execution_count": null,
   "outputs": [],
   "source": [
    "import shap\n",
    "# do not run this if you want to avoid waiting a minute or two\n",
    "explainer = shap.Explainer(model.predict, X_test)\n",
    "shap_values = explainer(X_test)"
   ],
   "metadata": {
    "collapsed": false
   }
  },
  {
   "cell_type": "code",
   "execution_count": null,
   "outputs": [],
   "source": [
    "shap.summary_plot(shap_values)"
   ],
   "metadata": {
    "collapsed": false
   }
  },
  {
   "cell_type": "markdown",
   "source": [
    "From the above graph, ordered from most the least effect, we see that alcohol is the largest contributing factor towards quality prediction. If we wanted to just remove features that were less important to reduce dimensions, this could be a viable method to remove things such as fixed acidity and pH from the dataset to simplify it."
   ],
   "metadata": {
    "collapsed": false
   }
  },
  {
   "cell_type": "markdown",
   "source": [],
   "metadata": {
    "collapsed": false
   }
  }
 ],
 "metadata": {
  "kernelspec": {
   "display_name": "Python 3 (ipykernel)",
   "language": "python",
   "name": "python3"
  },
  "language_info": {
   "codemirror_mode": {
    "name": "ipython",
    "version": 3
   },
   "file_extension": ".py",
   "mimetype": "text/x-python",
   "name": "python",
   "nbconvert_exporter": "python",
   "pygments_lexer": "ipython3",
   "version": "3.9.13"
  }
 },
 "nbformat": 4,
 "nbformat_minor": 4
}
