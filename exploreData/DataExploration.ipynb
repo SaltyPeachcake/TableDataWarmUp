{
 "cells": [
  {
   "cell_type": "markdown",
   "metadata": {
    "tags": []
   },
   "source": [
    "# Assignment 1: Visualizing the Wine Dataset\n",
    "by:\n",
    "- Sam Yao\n",
    "- Michael Amberg\n",
    "- Rebecca Kuhlman\n",
    "\n",
    "# NOTE: DO NOT PUSH .ipynb_checkpoints/ TO THE GITHUB"
   ]
  },
  {
   "cell_type": "markdown",
   "metadata": {},
   "source": [
    "### Data Sources\n",
    "- [1] http://www3.dsi.uminho.pt/pcortez/wine5.pdf\n",
    "- [2] https://archive.ics.uci.edu/ml/datasets/Wine+Quality"
   ]
  },
  {
   "cell_type": "markdown",
   "metadata": {},
   "source": [
    "## Business Understanding"
   ]
  },
  {
   "cell_type": "markdown",
   "metadata": {},
   "source": [
    "- Describe the purpose of the data set you selected (i.e., why and how was this data collected in the first place?). \n",
    "- What is the prediction task for your data and why are other third parties interested in the result? \n",
    "- Once you begin modeling, how well would your prediction algorithm need to perform to be considered useful to these third parties?\n",
    "- Be specific and use your own words to describe the aspects of the data."
   ]
  },
  {
   "cell_type": "markdown",
   "metadata": {},
   "source": [
    "### In your own words, give an overview of the dataset.\n",
    "This dataset describes several physical and chemical qualities of various wines (both white and red) from Portugal [1]. These characteristics, such as pH, citric acid, alcohol content, and residual sugar, were tested by physicochemical machines by the CVRVV, the official wine testing entity of the region of Portugal which these wines were made. The output was determined by a minimum of three human judges, who judged the wine quality on a scale of 0-10 (0 being bad and 10 being excellent). "
   ]
  },
  {
   "cell_type": "markdown",
   "metadata": {},
   "source": [
    "### What is the prediction task for your data and why are other third parties interested in the result? \n",
    "We are to predict the rating of a wine, given its qualities, on a scale of one to ten. Third-party entities, such as winemakers and related businesses, are interested in these results so that they can determine what chemically constitutes a wine that will rank high. Then, wine can be manufactured that focuses on this attribute (or less on this attribute if there is a strong negative correlation between the rankin and a certain attribute). This high ranking can be used to market those wines, bringing in profits for the company."
   ]
  },
  {
   "cell_type": "markdown",
   "metadata": {},
   "source": [
    "### Once you begin modeling, how well would your prediction algorithm need to perform to be considered useful to these third parties?\n",
    "Wine is often viewed as a very subjective experience. Wine chemical composition varies from year to year depending on the overall climate of the growing season. Given that quality is extremely subjective and variable, there is not a strong need for an extremely precise algorithm. With these considerations, a 60-70% accuracy will be deemed acceptable."
   ]
  },
  {
   "cell_type": "markdown",
   "metadata": {},
   "source": [
    "### Be specific and use your own words to describe the aspects of the data."
   ]
  },
  {
   "cell_type": "markdown",
   "metadata": {},
   "source": [
    "## Data Understanding"
   ]
  },
  {
   "cell_type": "code",
   "execution_count": 31,
   "metadata": {},
   "outputs": [
    {
     "name": "stdout",
     "output_type": "stream",
     "text": [
      "<class 'pandas.core.frame.DataFrame'>\n",
      "RangeIndex: 4898 entries, 0 to 4897\n",
      "Data columns (total 12 columns):\n",
      " #   Column                Non-Null Count  Dtype  \n",
      "---  ------                --------------  -----  \n",
      " 0   fixed acidity         4898 non-null   float64\n",
      " 1   volatile acidity      4898 non-null   float64\n",
      " 2   citric acid           4898 non-null   float64\n",
      " 3   residual sugar        4898 non-null   float64\n",
      " 4   chlorides             4898 non-null   float64\n",
      " 5   free sulfur dioxide   4898 non-null   float64\n",
      " 6   total sulfur dioxide  4898 non-null   float64\n",
      " 7   density               4898 non-null   float64\n",
      " 8   pH                    4898 non-null   float64\n",
      " 9   sulphates             4898 non-null   float64\n",
      " 10  alcohol               4898 non-null   float64\n",
      " 11  quality               4898 non-null   int64  \n",
      "dtypes: float64(11), int64(1)\n",
      "memory usage: 459.3 KB\n",
      "None\n"
     ]
    }
   ],
   "source": [
    "import pandas as pd\n",
    "import numpy as np\n",
    "import matplotlib\n",
    "import matplotlib.pyplot as plt\n",
    "import warnings\n",
    "warnings.simplefilter('ignore', DeprecationWarning)\n",
    "\n",
    "df_white_raw = pd.read_csv(\"winequality-white.csv\")\n",
    "df_red_raw = pd.read_csv(\"winequality-red.csv\")\n",
    "\n",
    "#Data csv format used \";\" instead of \",\", leading to us needing to manipulate file to use data\n",
    "print(df_white_raw.info())"
   ]
  },
  {
   "cell_type": "code",
   "execution_count": 32,
   "outputs": [
    {
     "name": "stdout",
     "output_type": "stream",
     "text": [
      "<class 'pandas.core.frame.DataFrame'>\n",
      "RangeIndex: 1599 entries, 0 to 1598\n",
      "Data columns (total 12 columns):\n",
      " #   Column                Non-Null Count  Dtype  \n",
      "---  ------                --------------  -----  \n",
      " 0   fixed acidity         1599 non-null   float64\n",
      " 1   volatile acidity      1599 non-null   float64\n",
      " 2   citric acid           1599 non-null   float64\n",
      " 3   residual sugar        1599 non-null   float64\n",
      " 4   chlorides             1599 non-null   float64\n",
      " 5   free sulfur dioxide   1599 non-null   float64\n",
      " 6   total sulfur dioxide  1599 non-null   float64\n",
      " 7   density               1599 non-null   float64\n",
      " 8   pH                    1599 non-null   float64\n",
      " 9   sulphates             1599 non-null   float64\n",
      " 10  alcohol               1599 non-null   float64\n",
      " 11  quality               1599 non-null   int64  \n",
      "dtypes: float64(11), int64(1)\n",
      "memory usage: 150.0 KB\n",
      "None\n"
     ]
    }
   ],
   "source": [
    "print(df_red_raw.info())"
   ],
   "metadata": {
    "collapsed": false
   }
  },
  {
   "cell_type": "markdown",
   "source": [
    "There is no missing data points in this dataset. The majority is numerical data. Whether a wine has sulfates or not could be made into categorical data, and whether the wine is red or white is categorical.\n",
    "The numerical day can be broken down into groups, such as not acidic wine, light acidity, medium acidity, etc.\n",
    "Red wine acidity ranges from 4ph to 3.3ph at the very lowest\n",
    "White wine acidity ranges from 3.6 to 2.8ph, with the sweetest white wines being the most acidic."
   ],
   "metadata": {
    "collapsed": false
   }
  },
  {
   "cell_type": "code",
   "execution_count": 33,
   "outputs": [
    {
     "data": {
      "text/plain": "         fixed acidity  volatile acidity  citric acid  residual sugar  \\\nquality                                                                 \n3                   10                10           10              10   \n4                   53                53           53              53   \n5                  681               681          681             681   \n6                  638               638          638             638   \n7                  199               199          199             199   \n8                   18                18           18              18   \n\n         chlorides  free sulfur dioxide  total sulfur dioxide  density   pH  \\\nquality                                                                       \n3               10                   10                    10       10   10   \n4               53                   53                    53       53   53   \n5              681                  681                   681      681  681   \n6              638                  638                   638      638  638   \n7              199                  199                   199      199  199   \n8               18                   18                    18       18   18   \n\n         sulphates  alcohol  \nquality                      \n3               10       10  \n4               53       53  \n5              681      681  \n6              638      638  \n7              199      199  \n8               18       18  ",
      "text/html": "<div>\n<style scoped>\n    .dataframe tbody tr th:only-of-type {\n        vertical-align: middle;\n    }\n\n    .dataframe tbody tr th {\n        vertical-align: top;\n    }\n\n    .dataframe thead th {\n        text-align: right;\n    }\n</style>\n<table border=\"1\" class=\"dataframe\">\n  <thead>\n    <tr style=\"text-align: right;\">\n      <th></th>\n      <th>fixed acidity</th>\n      <th>volatile acidity</th>\n      <th>citric acid</th>\n      <th>residual sugar</th>\n      <th>chlorides</th>\n      <th>free sulfur dioxide</th>\n      <th>total sulfur dioxide</th>\n      <th>density</th>\n      <th>pH</th>\n      <th>sulphates</th>\n      <th>alcohol</th>\n    </tr>\n    <tr>\n      <th>quality</th>\n      <th></th>\n      <th></th>\n      <th></th>\n      <th></th>\n      <th></th>\n      <th></th>\n      <th></th>\n      <th></th>\n      <th></th>\n      <th></th>\n      <th></th>\n    </tr>\n  </thead>\n  <tbody>\n    <tr>\n      <th>3</th>\n      <td>10</td>\n      <td>10</td>\n      <td>10</td>\n      <td>10</td>\n      <td>10</td>\n      <td>10</td>\n      <td>10</td>\n      <td>10</td>\n      <td>10</td>\n      <td>10</td>\n      <td>10</td>\n    </tr>\n    <tr>\n      <th>4</th>\n      <td>53</td>\n      <td>53</td>\n      <td>53</td>\n      <td>53</td>\n      <td>53</td>\n      <td>53</td>\n      <td>53</td>\n      <td>53</td>\n      <td>53</td>\n      <td>53</td>\n      <td>53</td>\n    </tr>\n    <tr>\n      <th>5</th>\n      <td>681</td>\n      <td>681</td>\n      <td>681</td>\n      <td>681</td>\n      <td>681</td>\n      <td>681</td>\n      <td>681</td>\n      <td>681</td>\n      <td>681</td>\n      <td>681</td>\n      <td>681</td>\n    </tr>\n    <tr>\n      <th>6</th>\n      <td>638</td>\n      <td>638</td>\n      <td>638</td>\n      <td>638</td>\n      <td>638</td>\n      <td>638</td>\n      <td>638</td>\n      <td>638</td>\n      <td>638</td>\n      <td>638</td>\n      <td>638</td>\n    </tr>\n    <tr>\n      <th>7</th>\n      <td>199</td>\n      <td>199</td>\n      <td>199</td>\n      <td>199</td>\n      <td>199</td>\n      <td>199</td>\n      <td>199</td>\n      <td>199</td>\n      <td>199</td>\n      <td>199</td>\n      <td>199</td>\n    </tr>\n    <tr>\n      <th>8</th>\n      <td>18</td>\n      <td>18</td>\n      <td>18</td>\n      <td>18</td>\n      <td>18</td>\n      <td>18</td>\n      <td>18</td>\n      <td>18</td>\n      <td>18</td>\n      <td>18</td>\n      <td>18</td>\n    </tr>\n  </tbody>\n</table>\n</div>"
     },
     "execution_count": 33,
     "metadata": {},
     "output_type": "execute_result"
    }
   ],
   "source": [
    "df_groupedRed = df_red_raw.groupby(['quality'])\n",
    "df_groupedRed.count()"
   ],
   "metadata": {
    "collapsed": false
   }
  },
  {
   "cell_type": "code",
   "execution_count": 34,
   "outputs": [],
   "source": [
    "df_red_raw['pH_range'] = pd.cut(df_red_raw['pH'],\n",
    "                                 [0,3.075,3.3,3.7,3.9,4.5],\n",
    "                                 labels=['Very High','High','Standard','Low','Very Low'])\n",
    "                                #labels=['0','1','2','3','4'])\n",
    "df_groupedRed.pH_range.describe()\n",
    "plt.style.use('ggplot')\n",
    "\n",
    "#plt.subplot(1,3,1)\n",
    "#df_groupedRed.pH_range.plot.hist(5)\n",
    "#plt.subplot(1,3,2)\n",
    "#df_groupedRed.pH_range.plot.kde(0.2)\n",
    "\n",
    "#plt.subplot(1,3,3)\n",
    "#df_groupedRed.pH_range.plot.hist(50)\n",
    "#df_groupedRed.pH_range.plot.kde(0.05, True)\n",
    "\n",
    "# remember that visualization is interpretted, it supports evidence.\n",
    "# plt.ylim([0, 0.06])\n",
    "\n",
    "#plt.show()\n",
    "#df_groupedRed.pH_range.plot.hist()"
   ],
   "metadata": {
    "collapsed": false
   }
  },
  {
   "cell_type": "code",
   "execution_count": 35,
   "outputs": [
    {
     "data": {
      "text/plain": "        count unique top freq\nquality                      \n3          10      1   0   10\n4          53      2   0   52\n5         681      3   0  672\n6         638      3   0  609\n7         199      3   0  176\n8          18      3   0   10",
      "text/html": "<div>\n<style scoped>\n    .dataframe tbody tr th:only-of-type {\n        vertical-align: middle;\n    }\n\n    .dataframe tbody tr th {\n        vertical-align: top;\n    }\n\n    .dataframe thead th {\n        text-align: right;\n    }\n</style>\n<table border=\"1\" class=\"dataframe\">\n  <thead>\n    <tr style=\"text-align: right;\">\n      <th></th>\n      <th>count</th>\n      <th>unique</th>\n      <th>top</th>\n      <th>freq</th>\n    </tr>\n    <tr>\n      <th>quality</th>\n      <th></th>\n      <th></th>\n      <th></th>\n      <th></th>\n    </tr>\n  </thead>\n  <tbody>\n    <tr>\n      <th>3</th>\n      <td>10</td>\n      <td>1</td>\n      <td>0</td>\n      <td>10</td>\n    </tr>\n    <tr>\n      <th>4</th>\n      <td>53</td>\n      <td>2</td>\n      <td>0</td>\n      <td>52</td>\n    </tr>\n    <tr>\n      <th>5</th>\n      <td>681</td>\n      <td>3</td>\n      <td>0</td>\n      <td>672</td>\n    </tr>\n    <tr>\n      <th>6</th>\n      <td>638</td>\n      <td>3</td>\n      <td>0</td>\n      <td>609</td>\n    </tr>\n    <tr>\n      <th>7</th>\n      <td>199</td>\n      <td>3</td>\n      <td>0</td>\n      <td>176</td>\n    </tr>\n    <tr>\n      <th>8</th>\n      <td>18</td>\n      <td>3</td>\n      <td>0</td>\n      <td>10</td>\n    </tr>\n  </tbody>\n</table>\n</div>"
     },
     "execution_count": 35,
     "metadata": {},
     "output_type": "execute_result"
    }
   ],
   "source": [
    "df_red_raw['ABV_range'] = pd.cut(df_red_raw['alcohol'],\n",
    "                                 [0,12.5,13.5,14.5,100],\n",
    "                                labels=['0','1','2','3'])\n",
    "df_groupedRed.ABV_range.describe()"
   ],
   "metadata": {
    "collapsed": false
   }
  },
  {
   "cell_type": "markdown",
   "source": [
    "Initially there doesn't seem to be a correlation between ABV and quality. Popular Portugense wines often have a very low ABV, which may affect the algorithm."
   ],
   "metadata": {
    "collapsed": false
   }
  },
  {
   "cell_type": "markdown",
   "metadata": {},
   "source": [
    "## Data Visualization"
   ]
  },
  {
   "cell_type": "code",
   "execution_count": 35,
   "metadata": {},
   "outputs": [],
   "source": []
  },
  {
   "cell_type": "markdown",
   "metadata": {},
   "source": [
    "## Extra Work 😡"
   ]
  },
  {
   "cell_type": "code",
   "execution_count": 35,
   "metadata": {},
   "outputs": [],
   "source": []
  }
 ],
 "metadata": {
  "kernelspec": {
   "display_name": "Python 3 (ipykernel)",
   "language": "python",
   "name": "python3"
  },
  "language_info": {
   "codemirror_mode": {
    "name": "ipython",
    "version": 3
   },
   "file_extension": ".py",
   "mimetype": "text/x-python",
   "name": "python",
   "nbconvert_exporter": "python",
   "pygments_lexer": "ipython3",
   "version": "3.9.13"
  }
 },
 "nbformat": 4,
 "nbformat_minor": 4
}
